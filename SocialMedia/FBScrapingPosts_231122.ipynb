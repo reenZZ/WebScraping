{
 "cells": [
  {
   "cell_type": "code",
   "execution_count": null,
   "id": "f54cf6c3",
   "metadata": {},
   "outputs": [],
   "source": [
    "# Import the Selenium library for web automation\n",
    "import selenium\n",
    "from selenium import webdriver\n",
    "from selenium.webdriver.common.by import By\n",
    "from selenium.webdriver.common.keys import Keys\n",
    "\n",
    "# Import the time module for adding delays in the script\n",
    "from time import sleep\n",
    "\n",
    "# Import getpass to securely input password\n",
    "import getpass\n",
    "\n",
    "# Import the Pandas library for data manipulation and analysis\n",
    "import pandas as pd\n",
    "\n",
    "# Import re for string searching & manipulation\n",
    "import re"
   ]
  },
  {
   "cell_type": "code",
   "execution_count": null,
   "id": "0c9ae1f2",
   "metadata": {},
   "outputs": [],
   "source": [
    "# Import the Service class\n",
    "from selenium.webdriver.chrome.service import Service"
   ]
  },
  {
   "cell_type": "code",
   "execution_count": null,
   "id": "fbb721ef",
   "metadata": {},
   "outputs": [],
   "source": [
    "# Create an instance of the Chrome WebDriver Service\n",
    "service = Service()\n",
    "\n",
    "# Create an instance of ChromeOptions\n",
    "options = webdriver.ChromeOptions()\n",
    "\n",
    "# Create an instance of the Chrome WebDriver\n",
    "driver = webdriver.Chrome(service=service, options=options)\n",
    "driver.get(\"https://www.facebook.com/\")\n",
    "driver.maximize_window()\n",
    "# ...\n",
    "#driver.quit()"
   ]
  },
  {
   "cell_type": "code",
   "execution_count": null,
   "id": "02cd1e5d",
   "metadata": {},
   "outputs": [],
   "source": [
    "# Input email as login\n",
    "loginId = \"(email)\" # nanti dihapus"
   ]
  },
  {
   "cell_type": "code",
   "execution_count": null,
   "id": "25e95395",
   "metadata": {},
   "outputs": [],
   "source": [
    "# Input password\n",
    "my_password = getpass.getpass()"
   ]
  },
  {
   "cell_type": "code",
   "execution_count": null,
   "id": "9c8bd0a9",
   "metadata": {},
   "outputs": [],
   "source": [
    "# Locate the username input field\n",
    "user_name = driver.find_element(By.XPATH,\"//input[@type='text']\")\n",
    "user_name.send_keys(loginId)"
   ]
  },
  {
   "cell_type": "code",
   "execution_count": null,
   "id": "4a55f9c8",
   "metadata": {},
   "outputs": [],
   "source": [
    "# Locate the password input field\n",
    "password = driver.find_element(By.XPATH,\"//input[@placeholder='Password']\")\n",
    "password.send_keys(my_password)"
   ]
  },
  {
   "cell_type": "code",
   "execution_count": null,
   "id": "0b7d25c9",
   "metadata": {},
   "outputs": [],
   "source": [
    "# Locate the log in button\n",
    "log_in_button = driver.find_element(By.XPATH,\"//button[@type='submit']\")\n",
    "log_in_button.click()"
   ]
  },
  {
   "cell_type": "code",
   "execution_count": null,
   "id": "7bde8971",
   "metadata": {},
   "outputs": [],
   "source": [
    "# Navigate the Chrome WebDriver to BBC page\n",
    "driver.get(\"https://www.facebook.com/bbcnews/\")"
   ]
  },
  {
   "cell_type": "code",
   "execution_count": null,
   "id": "deb6201f",
   "metadata": {},
   "outputs": [],
   "source": [
    "# Locate the About Tab\n",
    "aboutTab = driver.find_element(By.XPATH,\"//span[text()='About']\")\n",
    "aboutTab.click()"
   ]
  },
  {
   "cell_type": "code",
   "execution_count": null,
   "id": "e26cdf0c",
   "metadata": {},
   "outputs": [],
   "source": [
    "# Locate the Page transparency sub tab\n",
    "pTransTab = driver.find_element(By.XPATH,\"//span[text()='Page transparency']\")\n",
    "pTransTab.click()"
   ]
  },
  {
   "cell_type": "code",
   "execution_count": null,
   "id": "c49a9359",
   "metadata": {},
   "outputs": [],
   "source": [
    "# Get the id page\n",
    "pageID = driver.find_elements(By.XPATH,\"//span[@class='x193iq5w xeuugli x13faqbe x1vvkbs x1xmvt09 x1lliihq x1s928wv xhkezso x1gmr53x x1cpjm7i x1fgarty x1943h6x xudqn12 x3x7a5m x6prxxf xvq8zen xo1l8bm xzsf02u']\")\n",
    "pageIDFix = pageID[0].text\n",
    "pageIDFix"
   ]
  },
  {
   "cell_type": "code",
   "execution_count": null,
   "id": "f9fa30f9",
   "metadata": {},
   "outputs": [],
   "source": [
    "# Get the name page\n",
    "pageName = driver.find_elements(By.XPATH,\"//h1[@class='x1heor9g x1qlqyl8 x1pd3egz x1a2a7pz']\")\n",
    "pageNameFix = pageName[0].text.rstrip()\n",
    "pageNameFix"
   ]
  },
  {
   "cell_type": "code",
   "execution_count": null,
   "id": "aef8a1c7",
   "metadata": {},
   "outputs": [],
   "source": [
    "# Back to the Posts tab\n",
    "postsTab = driver.find_element(By.XPATH,\"//span[text()='Posts']\")\n",
    "postsTab.click()"
   ]
  },
  {
   "cell_type": "code",
   "execution_count": null,
   "id": "0cfe564e",
   "metadata": {},
   "outputs": [],
   "source": [
    "# Locate the filter button\n",
    "filter_button = driver.find_element(By.XPATH,\"//div[@aria-label='Filters']\")\n",
    "filter_button.click()"
   ]
  },
  {
   "cell_type": "code",
   "execution_count": null,
   "id": "3f26840d",
   "metadata": {},
   "outputs": [],
   "source": [
    "# Input the required year\n",
    "year_button = driver.find_element(By.XPATH,\"//div[@class='x1i10hfl xjqpnuy xa49m3k xqeqjp1 x2hbi6w xdl72j9 x2lah0s xe8uvvx x2lwn1j xeuugli x1hl2dhg xggy1nq x1t137rt x1q0g3np x87ps6o x1lku1pv x78zum5 x1a2a7pz x6s0dn4 xjyslct x1qhmfi1 xhk9q7s x1otrzb0 x1i1ezom x1o6z2jb x13fuv20 xu3j5b3 x1q0q8m5 x26u7qi x972fbf xcfux6l x1qhh985 xm0m39n x9f619 x1ypdohk x1qughib xdj266r x11i5rnm xat24cr x1mh8g0r x889kno xn6708d x1a8lsjc x1ye3gou x1n2onr6 x1yc453h x1ja2u2z']\")\n",
    "year_button.send_keys('2023')\n",
    "year_button.click()"
   ]
  },
  {
   "cell_type": "code",
   "execution_count": null,
   "id": "af6a3d02",
   "metadata": {},
   "outputs": [],
   "source": [
    "# Input the required month (1)\n",
    "month_button = driver.find_element(By.XPATH,\"//span[contains(@class,'x193iq5w xeuugli x13faqbe x1vvkbs x1xmvt09 x1lliihq x1s928wv xhkezso x1gmr53x x1cpjm7i x1fgarty x1943h6x xudqn12 x3x7a5m x6prxxf xvq8zen x1s688f xzsf02u') and contains(text(), 'Month')]\")\n",
    "month_button.click()"
   ]
  },
  {
   "cell_type": "code",
   "execution_count": null,
   "id": "8b999fd0",
   "metadata": {},
   "outputs": [],
   "source": [
    "# Input the required month (2)\n",
    "month_button = driver.find_element(By.XPATH,\"//span[contains(@class,'x193iq5w xeuugli x13faqbe x1vvkbs x1xmvt09 x1lliihq x1s928wv xhkezso x1gmr53x x1cpjm7i x1fgarty x1943h6x xudqn12 x3x7a5m x6prxxf xvq8zen xk50ysn xzsf02u x1yc453h') and contains(text(), 'September')]\")\n",
    "month_button.click()"
   ]
  },
  {
   "cell_type": "code",
   "execution_count": null,
   "id": "ac24d97f",
   "metadata": {},
   "outputs": [],
   "source": [
    "# Input the required date (1)\n",
    "date_button = driver.find_element(By.XPATH,\"//span[contains(@class,'x193iq5w xeuugli x13faqbe x1vvkbs x1xmvt09 x1lliihq x1s928wv xhkezso x1gmr53x x1cpjm7i x1fgarty x1943h6x xudqn12 x3x7a5m x6prxxf xvq8zen x1s688f xzsf02u') and contains(text(), 'Day')]\")\n",
    "date_button.click()"
   ]
  },
  {
   "cell_type": "code",
   "execution_count": null,
   "id": "1f78e780",
   "metadata": {},
   "outputs": [],
   "source": [
    "# Input the required date (2)\n",
    "date_button = driver.find_element(By.XPATH,\"//span[contains(@class,'x193iq5w xeuugli x13faqbe x1vvkbs x1xmvt09 x1lliihq x1s928wv xhkezso x1gmr53x x1cpjm7i x1fgarty x1943h6x xudqn12 x3x7a5m x6prxxf xvq8zen xk50ysn xzsf02u x1yc453h') and contains(text(), '30')]\")\n",
    "date_button.click()"
   ]
  },
  {
   "cell_type": "code",
   "execution_count": null,
   "id": "8c380cf4",
   "metadata": {},
   "outputs": [],
   "source": [
    "# Locate the done button\n",
    "done_button = driver.find_element(By.XPATH,\"//div[@class='x1n2onr6 x1ja2u2z x78zum5 x2lah0s xl56j7k x6s0dn4 xozqiw3 x1q0g3np xi112ho x17zwfj4 x585lrc x1403ito x972fbf xcfux6l x1qhh985 xm0m39n x9f619 xbxaen2 x1u72gb5 xtvsq51 x1r1pt67']\")\n",
    "done_button.click()"
   ]
  },
  {
   "cell_type": "code",
   "execution_count": null,
   "id": "026ec271",
   "metadata": {},
   "outputs": [],
   "source": [
    "# Initialization a set\n",
    "postList = set()"
   ]
  },
  {
   "cell_type": "code",
   "execution_count": null,
   "id": "731f1b1f",
   "metadata": {},
   "outputs": [],
   "source": [
    "# Pattern post & comment\n",
    "patternIdPost = r'/posts/([a-zA-Z0-9]+)'\n",
    "patternComment = r'comment_id=(\\d+)'"
   ]
  },
  {
   "cell_type": "code",
   "execution_count": null,
   "id": "e3e36edd",
   "metadata": {},
   "outputs": [],
   "source": [
    "# Get the id post element\n",
    "idPostEle = driver.find_elements(By.XPATH,\"//a[@class='x1i10hfl xjbqb8w x6umtig x1b1mbwd xaqea5y xav7gou x9f619 x1ypdohk xt0psk2 xe8uvvx xdj266r x11i5rnm xat24cr x1mh8g0r xexx8yu x4uap5 x18d9i69 xkhd6sd x16tdsg8 x1hl2dhg xggy1nq x1a2a7pz x1heor9g xt0b8zv xo1l8bm']\")"
   ]
  },
  {
   "cell_type": "code",
   "execution_count": null,
   "id": "a106bc08",
   "metadata": {},
   "outputs": [],
   "source": [
    "# Get the id & date post\n",
    "urlIdPost = idPostEle[0].get_attribute(\"href\").split('?')[0]\n",
    "matchIdPost = re.search(patternIdPost, urlIdPost)\n",
    "idPost = matchIdPost.group(1)\n",
    "datePost = idPostEle[0].text + ' 2023'"
   ]
  },
  {
   "cell_type": "code",
   "execution_count": null,
   "id": "db189e25",
   "metadata": {},
   "outputs": [],
   "source": [
    "# Initialization var j\n",
    "j = 0"
   ]
  },
  {
   "cell_type": "code",
   "execution_count": null,
   "id": "2cd22b6f",
   "metadata": {},
   "outputs": [],
   "source": [
    "# Get the data and put it into dataframe\n",
    "while True:\n",
    "    for i in range(len(idPostEle)):\n",
    "        urlIdPost = idPostEle[i].get_attribute(\"href\").split('?')[0]\n",
    "        matchIdPost = re.search(patternIdPost, urlIdPost)\n",
    "        idPost = matchIdPost.group(1)\n",
    "        \n",
    "        if idPost not in postList:\n",
    "            postList.add(idPost)\n",
    "            \n",
    "            datePost = idPostEle[i].text + ' 2023'\n",
    "            \n",
    "            sleep(3)\n",
    "            txtPostEle = driver.find_elements(By.XPATH,\"//div[@class='xdj266r x11i5rnm xat24cr x1mh8g0r x1vvkbs x126k92a']\")\n",
    "            txtPost = txtPostEle[i].text\n",
    "            \n",
    "            try:\n",
    "                sleep(3)\n",
    "                idCommentEle = driver.find_element(By.XPATH,\"//a[contains(@class,'x1i10hfl xjbqb8w x6umtig x1b1mbwd xaqea5y xav7gou x9f619 x1ypdohk xt0psk2 xe8uvvx xdj266r x11i5rnm xat24cr x1mh8g0r xexx8yu x4uap5 x18d9i69 xkhd6sd x16tdsg8 x1hl2dhg xggy1nq x1a2a7pz xt0b8zv xi81zsa xo1l8bm') and starts-with(@href,'\" + urlIdPost + \"')]\")\n",
    "\n",
    "                urlComment = idCommentEle.get_attribute(\"href\")\n",
    "                matchIdComment = re.search(patternComment, urlComment)\n",
    "                idComment = matchIdComment.group(1)\n",
    "\n",
    "                sleep(3)\n",
    "                nameCommentEle = driver.find_elements(By.XPATH,\"//span[@class='x193iq5w xeuugli x13faqbe x1vvkbs x1xmvt09 x1lliihq x1s928wv xhkezso x1gmr53x x1cpjm7i x1fgarty x1943h6x x4zkp8e x676frb x1nxh6w3 x1sibtaa x1s688f xzsf02u']\")\n",
    "                nameComment = nameCommentEle[i].text\n",
    "                sleep(3)\n",
    "                txtCommentEle = driver.find_elements(By.XPATH,\"//div[@class='xdj266r x11i5rnm xat24cr x1mh8g0r x1vvkbs']\")\n",
    "                txtComment = txtCommentEle[i].text\n",
    "\n",
    "            except:\n",
    "                idComment = \"\"\n",
    "                nameComment = \"\"\n",
    "                txtComment = \"\"\n",
    "            \n",
    "            dataPost = {'idUser': pageIDFix, 'nameUser': pageNameFix, 'idPost': idPost, 'datePost': datePost, 'textPost': txtPost, 'idComment' : idComment, 'nameComment' : nameComment, 'textComment' : txtComment}\n",
    "            if j == 0:\n",
    "                df = pd.DataFrame(dataPost, index=[j])\n",
    "            else:\n",
    "                df.loc[j] = dataPost\n",
    "            j += 1\n",
    "        \n",
    "        print (j)\n",
    "            \n",
    "    driver.execute_script('window.scrollTo(0, document.body.scrollHeight);')\n",
    "    sleep(5)\n",
    "    idPostEle = driver.find_elements(By.XPATH,\"//a[@class='x1i10hfl xjbqb8w x6umtig x1b1mbwd xaqea5y xav7gou x9f619 x1ypdohk xt0psk2 xe8uvvx xdj266r x11i5rnm xat24cr x1mh8g0r xexx8yu x4uap5 x18d9i69 xkhd6sd x16tdsg8 x1hl2dhg xggy1nq x1a2a7pz x1heor9g xt0b8zv xo1l8bm']\")\n",
    "    \n",
    "    if j > 50:\n",
    "        break"
   ]
  },
  {
   "cell_type": "code",
   "execution_count": null,
   "id": "2f707905",
   "metadata": {
    "scrolled": true
   },
   "outputs": [],
   "source": [
    "# Check the result\n",
    "df"
   ]
  },
  {
   "cell_type": "code",
   "execution_count": null,
   "id": "694508b5",
   "metadata": {},
   "outputs": [],
   "source": [
    "# Beautify json\n",
    "out = df.to_json(orient='records')"
   ]
  },
  {
   "cell_type": "code",
   "execution_count": null,
   "id": "36f710c2",
   "metadata": {},
   "outputs": [],
   "source": [
    "# Save json into a file\n",
    "with open('FBPostBBCSep23.json', 'w') as f:\n",
    "    f.write(out)"
   ]
  }
 ],
 "metadata": {
  "kernelspec": {
   "display_name": "Python 3 (ipykernel)",
   "language": "python",
   "name": "python3"
  },
  "language_info": {
   "codemirror_mode": {
    "name": "ipython",
    "version": 3
   },
   "file_extension": ".py",
   "mimetype": "text/x-python",
   "name": "python",
   "nbconvert_exporter": "python",
   "pygments_lexer": "ipython3",
   "version": "3.10.11"
  }
 },
 "nbformat": 4,
 "nbformat_minor": 5
}
