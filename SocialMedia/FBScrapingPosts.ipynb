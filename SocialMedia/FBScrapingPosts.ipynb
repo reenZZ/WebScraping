{
 "cells": [
  {
   "cell_type": "code",
   "execution_count": 52,
   "id": "2f520b0c",
   "metadata": {},
   "outputs": [],
   "source": [
    "# Import the Selenium library for web automation\n",
    "import selenium\n",
    "from selenium import webdriver\n",
    "from selenium.webdriver.common.by import By\n",
    "from selenium.webdriver.common.keys import Keys\n",
    "\n",
    "# Import the time module for adding delays in the script\n",
    "from time import sleep\n",
    "\n",
    "# Import getpass to securely input password\n",
    "import getpass\n",
    "\n",
    "# Import the Pandas library for data manipulation and analysis\n",
    "import pandas as pd"
   ]
  },
  {
   "cell_type": "code",
   "execution_count": 2,
   "id": "4ffcde9e",
   "metadata": {},
   "outputs": [],
   "source": [
    "# Import the Service class\n",
    "from selenium.webdriver.chrome.service import Service"
   ]
  },
  {
   "cell_type": "code",
   "execution_count": 3,
   "id": "ce237272",
   "metadata": {},
   "outputs": [],
   "source": [
    "# Create an instance of the Chrome WebDriver Service\n",
    "service = Service()\n",
    "\n",
    "# Create an instance of ChromeOptions\n",
    "options = webdriver.ChromeOptions()\n",
    "\n",
    "# Create an instance of the Chrome WebDriver\n",
    "driver = webdriver.Chrome(service=service, options=options)\n",
    "driver.get(\"https://www.facebook.com/\")\n",
    "driver.maximize_window()\n",
    "# ...\n",
    "#driver.quit()"
   ]
  },
  {
   "cell_type": "code",
   "execution_count": 4,
   "id": "1a5b801c",
   "metadata": {},
   "outputs": [],
   "source": [
    "# Input email as login\n",
    "loginId = \"(email)\" # nanti dihapus"
   ]
  },
  {
   "cell_type": "code",
   "execution_count": 5,
   "id": "eb707883",
   "metadata": {},
   "outputs": [
    {
     "name": "stdout",
     "output_type": "stream",
     "text": [
      "········\n"
     ]
    }
   ],
   "source": [
    "# Input password\n",
    "my_password = getpass.getpass()"
   ]
  },
  {
   "cell_type": "code",
   "execution_count": 6,
   "id": "fad99fd3",
   "metadata": {},
   "outputs": [],
   "source": [
    "# Locate the username input field\n",
    "user_name = driver.find_element(By.XPATH,\"//input[@type='text']\")\n",
    "user_name.send_keys(loginId)"
   ]
  },
  {
   "cell_type": "code",
   "execution_count": 7,
   "id": "0c87d2ca",
   "metadata": {},
   "outputs": [],
   "source": [
    "# Locate the password input field\n",
    "password = driver.find_element(By.XPATH,\"//input[@placeholder='Password']\")\n",
    "password.send_keys(my_password)"
   ]
  },
  {
   "cell_type": "code",
   "execution_count": 8,
   "id": "292a101c",
   "metadata": {},
   "outputs": [],
   "source": [
    "# Locate the log in button\n",
    "log_in_button = driver.find_element(By.XPATH,\"//button[@type='submit']\")\n",
    "log_in_button.click()"
   ]
  },
  {
   "cell_type": "code",
   "execution_count": 16,
   "id": "3026c368",
   "metadata": {},
   "outputs": [],
   "source": [
    "# Navigate the Chrome WebDriver to BBC page\n",
    "driver.get(\"https://www.facebook.com/bbcnews/\")"
   ]
  },
  {
   "cell_type": "code",
   "execution_count": 11,
   "id": "89ced7ba",
   "metadata": {},
   "outputs": [],
   "source": [
    "# Create an empty set named 'postList' to store post.\n",
    "postList = set()"
   ]
  },
  {
   "cell_type": "code",
   "execution_count": 29,
   "id": "82d109e4",
   "metadata": {},
   "outputs": [],
   "source": [
    "# Continuously scrape and store text content from Facebook posts until 20 unique posts\n",
    "# Limit 20 posts because of the time\n",
    "fbPosts = driver.find_elements(By.XPATH,\"//div[@class='xdj266r x11i5rnm xat24cr x1mh8g0r x1vvkbs x126k92a']\")\n",
    "while True:\n",
    "    for pst in fbPosts:\n",
    "        postList.add(pst.text)\n",
    "    driver.execute_script('window.scrollTo(0, document.body.scrollHeight);')\n",
    "    sleep(7)\n",
    "    fbPosts = driver.find_elements(By.XPATH,\"//div[@class='xdj266r x11i5rnm xat24cr x1mh8g0r x1vvkbs x126k92a']\")\n",
    "    if len(set(postList)) > 20:\n",
    "        break"
   ]
  },
  {
   "cell_type": "code",
   "execution_count": 32,
   "id": "4557f0a4",
   "metadata": {},
   "outputs": [],
   "source": [
    "# The DataFrame has a single column named 'posts' to store the text content of each post.\n",
    "df = pd.DataFrame(postList,columns=['posts'])"
   ]
  },
  {
   "cell_type": "code",
   "execution_count": 48,
   "id": "452140cd",
   "metadata": {},
   "outputs": [],
   "source": [
    "# Delete the \" char in every posts\n",
    "df['posts'] = df['posts'].str.replace('\"', '')"
   ]
  },
  {
   "cell_type": "code",
   "execution_count": 50,
   "id": "feadd49f",
   "metadata": {},
   "outputs": [],
   "source": [
    "# Beautify json\n",
    "out = df.to_json(orient='records')[1:-1].replace('},{', '} {')"
   ]
  },
  {
   "cell_type": "code",
   "execution_count": 51,
   "id": "b7451643",
   "metadata": {},
   "outputs": [],
   "source": [
    "# Save json into a file\n",
    "with open('FBPostBBC.json', 'w') as f:\n",
    "    f.write(out)"
   ]
  },
  {
   "cell_type": "code",
   "execution_count": null,
   "id": "c09bdf4f",
   "metadata": {},
   "outputs": [],
   "source": []
  }
 ],
 "metadata": {
  "kernelspec": {
   "display_name": "Python 3 (ipykernel)",
   "language": "python",
   "name": "python3"
  },
  "language_info": {
   "codemirror_mode": {
    "name": "ipython",
    "version": 3
   },
   "file_extension": ".py",
   "mimetype": "text/x-python",
   "name": "python",
   "nbconvert_exporter": "python",
   "pygments_lexer": "ipython3",
   "version": "3.10.11"
  }
 },
 "nbformat": 4,
 "nbformat_minor": 5
}
